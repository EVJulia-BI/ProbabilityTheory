{
 "cells": [
  {
   "cell_type": "markdown",
   "id": "445797b4",
   "metadata": {},
   "source": [
    "Задача 1. Провести дисперсионный анализ для определения того, есть ли различия среднего роста среди взрослых футболистов, хоккеистов и штангистов. Даны значения роста в трех группах случайно выбранных спортсменов: Футболисты: 173, 175, 180, 178, 177, 185, 183, 182. Хоккеисты: 177, 179, 180, 188, 177, 172, 171, 184, 180. Штангисты: 172, 173, 169, 177, 166, 180, 178, 177, 172, 166, 170."
   ]
  },
  {
   "cell_type": "code",
   "execution_count": 1,
   "id": "51ff878a",
   "metadata": {},
   "outputs": [],
   "source": [
    "import numpy as np\n",
    "from scipy import stats"
   ]
  },
  {
   "cell_type": "code",
   "execution_count": 2,
   "id": "d1e9e24b",
   "metadata": {},
   "outputs": [],
   "source": [
    "a=np.array([173, 175, 180, 178, 177, 185, 183, 182])\n",
    "b=np.array([177, 179, 180, 188, 177, 172, 171, 184, 180])\n",
    "c=np.array([172, 173, 169, 177, 166, 180, 178, 177, 172, 166, 170])"
   ]
  },
  {
   "cell_type": "code",
   "execution_count": 3,
   "id": "a1658788",
   "metadata": {},
   "outputs": [],
   "source": [
    "alpha=0.05"
   ]
  },
  {
   "cell_type": "markdown",
   "id": "e25acf9c",
   "metadata": {},
   "source": [
    "Проверим данные на нормальность распределения"
   ]
  },
  {
   "cell_type": "code",
   "execution_count": 4,
   "id": "11b328b8",
   "metadata": {},
   "outputs": [
    {
     "data": {
      "text/plain": [
       "ShapiroResult(statistic=0.9775082468986511, pvalue=0.9495404362678528)"
      ]
     },
     "execution_count": 4,
     "metadata": {},
     "output_type": "execute_result"
    }
   ],
   "source": [
    "stats.shapiro(a)"
   ]
  },
  {
   "cell_type": "code",
   "execution_count": 5,
   "id": "06b51876",
   "metadata": {},
   "outputs": [
    {
     "data": {
      "text/plain": [
       "ShapiroResult(statistic=0.9579196572303772, pvalue=0.7763139009475708)"
      ]
     },
     "execution_count": 5,
     "metadata": {},
     "output_type": "execute_result"
    }
   ],
   "source": [
    "stats.shapiro(b)"
   ]
  },
  {
   "cell_type": "code",
   "execution_count": 6,
   "id": "d4319a63",
   "metadata": {},
   "outputs": [
    {
     "data": {
      "text/plain": [
       "ShapiroResult(statistic=0.9386808276176453, pvalue=0.5051165223121643)"
      ]
     },
     "execution_count": 6,
     "metadata": {},
     "output_type": "execute_result"
    }
   ],
   "source": [
    "stats.shapiro(c)"
   ]
  },
  {
   "cell_type": "markdown",
   "id": "08693405",
   "metadata": {},
   "source": [
    "ShapiroResult(statistic=0.9386808276176453, pvalue=0.5051165223121643)\n",
    "p-value для всех выборок больше alpha, значит принимаем гипотезу что данные распределены нормально. Проверим равенство дисперсий."
   ]
  },
  {
   "cell_type": "code",
   "execution_count": 7,
   "id": "2db54a62",
   "metadata": {},
   "outputs": [
    {
     "data": {
      "text/plain": [
       "BartlettResult(statistic=0.4640521043406442, pvalue=0.7929254656083131)"
      ]
     },
     "execution_count": 7,
     "metadata": {},
     "output_type": "execute_result"
    }
   ],
   "source": [
    "stats.bartlett(a,b,c)"
   ]
  },
  {
   "cell_type": "markdown",
   "id": "ad3b83d6",
   "metadata": {},
   "source": [
    "BartlettResult(statistic=0.4640521043406442, pvalue=0.7929254656083131)\n",
    "p-value для каждой выборки больше alpha, значит принимаем что дисперсии равны.\n",
    "\n",
    "Теперь можем проводить однофакторный дисперсионный анализ.\n",
    "\n",
    "формулируем гипотезы:\n",
    "HO:m1=m2=m3 средний рост одинаков\n",
    "H1:m1≠m2≠m3 средний рост различен"
   ]
  },
  {
   "cell_type": "code",
   "execution_count": 8,
   "id": "fce917eb",
   "metadata": {},
   "outputs": [
    {
     "data": {
      "text/plain": [
       "F_onewayResult(statistic=5.500053450812596, pvalue=0.010482206918698694)"
      ]
     },
     "execution_count": 8,
     "metadata": {},
     "output_type": "execute_result"
    }
   ],
   "source": [
    "stats.f_oneway(a, b, c)"
   ]
  },
  {
   "cell_type": "markdown",
   "id": "a6b85ba6",
   "metadata": {},
   "source": [
    "Ответ\n",
    "\n",
    "Получиленное значение pvalue=0.01048 меньше alpha=0.05 значит отвергаем нулевую гипотезу. Cредний рост футболистов, хоккеистов и штангистов различен."
   ]
  },
  {
   "cell_type": "code",
   "execution_count": null,
   "id": "53285a6e",
   "metadata": {},
   "outputs": [],
   "source": []
  }
 ],
 "metadata": {
  "kernelspec": {
   "display_name": "Python 3 (ipykernel)",
   "language": "python",
   "name": "python3"
  },
  "language_info": {
   "codemirror_mode": {
    "name": "ipython",
    "version": 3
   },
   "file_extension": ".py",
   "mimetype": "text/x-python",
   "name": "python",
   "nbconvert_exporter": "python",
   "pygments_lexer": "ipython3",
   "version": "3.9.13"
  }
 },
 "nbformat": 4,
 "nbformat_minor": 5
}
